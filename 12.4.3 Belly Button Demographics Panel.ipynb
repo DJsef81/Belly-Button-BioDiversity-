{
 "cells": [
  {
   "cell_type": "raw",
   "metadata": {},
   "source": [
    "Lets start to build the first part of her dashboard: the demographics panel. \n",
    "\n",
    "A dropdown menu will list the ID numbers of all the volunteers. \n",
    "\n",
    "When a volunteer ID is chosen from the dropdown menu, that person's demographics information, such as location, sex, and age, will be displayed.\n",
    "\n",
    "(download new index.html file)"
   ]
  },
  {
   "cell_type": "raw",
   "metadata": {},
   "source": [
    "Set Up HTML Elements\n",
    "\n",
    "This is a Bootstrap page with a dropdown menu and an info panel. Selecting an ID number from the dropdown menu will populate the panel with that person's information.\n",
    "\n",
    "Open index.html to examine the code. As expected, the header links to the Bootstrap CDN.\n",
    "\n",
    "<head>\n",
    "  <meta charset=\"UTF-8\">\n",
    "  <meta name=\"viewport\" content=\"width=device-width, initial-scale=1.0\">\n",
    "  <meta http-equiv=\"X-UA-Compatible\" content=\"ie=edge\">\n",
    "  <title>Belly Button Biodiversity</title>\n",
    "  <link rel=\"stylesheet\" href=\"https://maxcdn.bootstrapcdn.com/bootstrap/3.3.7/css/bootstrap.min.css\">\n",
    "</head>"
   ]
  },
  {
   "cell_type": "raw",
   "metadata": {},
   "source": [
    "The next block of code creates two HTML elements: the dropdown menu and the panel for the demographic information.\n",
    "\n",
    "A <div> belonging to the well class contains a dropdown menu with an id of selDataset.\n",
    "\n",
    "  <select id=\"selDataset\" onchange=\"optionChanged(this.value)\"></select>\n",
    "        </div>\n",
    "        <div class=\"panel panel-primary\">\n",
    "          <div class=\"panel-heading\">\n",
    "            <h3 class=\"panel-title\">Demographic Info</h3>\n",
    "          </div>\n",
    "          \n",
    "A <div> with an id of sample-metadata is the information panel.\n",
    "          \n",
    "          <div id=\"sample-metadata\" class=\"panel-body\"></div>\n",
    "        </div>\n",
    "      </div>\n",
    "\n",
    "The dropdown menu doesn't have any options yet, and the panel doesn't contain any demographic information. These will be dynamically generated with information from the dataset.\n",
    "\n",
    "We'll use the data from samples.json to create a dropdown menu of volunteer (test subject) ID numbers dynamically:\n",
    "\n"
   ]
  },
  {
   "cell_type": "raw",
   "metadata": {},
   "source": [
    "Dynamically Generate Dropdown Menu Items\n",
    "\n",
    "Let's examine the code that creates a dropdown menu of ID numbers dynamically.\n",
    "\n",
    "function init() {\n",
    "  var selector = d3.select(\"#selDataset\");\n",
    "\n",
    "  d3.json(\"samples.json\").then((data) => {\n",
    "    console.log(data);\n",
    "    var sampleNames = data.names;\n",
    "    sampleNames.forEach((sample) => {\n",
    "      selector\n",
    "        .append(\"option\")\n",
    "        .text(sample)\n",
    "        .property(\"value\", sample);\n",
    "    });\n",
    "})}\n",
    "\n",
    "init();\n",
    "\n",
    "1. All the code is enclosed inside the init() function, which is called on the last line.\n",
    "\n",
    "2. Insideinit(), the d3.select() method is used to select the dropdown menu, which has an id of #selDataset. The dropdown menu is assigned to the variable selector.\n",
    "\n",
    "3. The d3.json() method is used to read the data from samples.json. The data from the entire JSON file is assigned the (arbitrary) argument name data.\n",
    "\n",
    "4. Inside the data object, the names array, as seen from console.log(data), contains the ID numbers of all the study participants. The variable sampleNames is assigned to this array.\n"
   ]
  },
  {
   "cell_type": "raw",
   "metadata": {},
   "source": [
    "In this code, note that the forEach() method is called on the sampleNames array. For each element in the array, a dropdown menu option is appended. The text of each dropdown menu option is the ID. Its value property is also assigned the ID.\n",
    "\n",
    "For example, ID \"940\" is the first element of the sampleNames array. As the forEach() method iterates over the first element of the array, a menu option is appended to the dropdown menu. It is then given the text (the text seen in the dropdown menu) \"940\", and its property is also assigned \"940\". The forEach() method will perform the same tasks for the next element of the array, \"941\".\n",
    "\n",
    "Up to this point, the dropdown menu examples we have seen had hard-coded menu options. For example, in the code below, there are two dropdown menu options, for which each value property can be selected with JavaScript:\n",
    "\n",
    "  <select id=\"dropdownMenu\">\n",
    "    <option value=\"dataset1\">DataSet1</option>\n",
    "    <option value=\"dataset2\">DataSet2</option>\n",
    "  </select>\n",
    "  \n",
    "With the belly button data, the dropdown menu options are generated dynamically. However, the HTML code can be modified to call a JavaScript function:\n",
    "\n",
    "<select id=\"selDataset\" onchange=\"optionChanged(this.value)\"></select>\n"
   ]
  },
  {
   "cell_type": "raw",
   "metadata": {},
   "source": [
    "<select id=\"selDataset\" onchange=\"optionChanged(this.value)\"></select>\n",
    "\n",
    "In this code, note the following:\n",
    "\n",
    "The <select> tag indicates a dropdown menu. Its id is selDataset.\n",
    "The <select> tag now has an additional attribute, called onchange, which is associated with the optionChanged()function.\n",
    "When a change takes place in the dropdown menu, the optionChanged() function is called.\n",
    "The argument for theoptionChanged() function is this.value.\n",
    "Here, this refers to the dropdown menu. this.value therefore returns to the value attribute of the current dropdown menu selection."
   ]
  },
  {
   "cell_type": "raw",
   "metadata": {},
   "source": [
    "The JavaScript keyword this is used to access the object in question. In the context of an event, it refers to the HTML element that received the event. In this case, this refers to the dropdown menu.\n",
    "\n",
    "In the following code example, what is doSomething?\n",
    "\n",
    "<select id=\"myDropdownMenu\"\n",
    "onchange=\"doSomething(this.value)\"></select>\n",
    "\n",
    "The name of a JavaScript function that is defined in a separate JavaScript file.\n",
    "\n",
    "This function is called when a change takes place in the dropdown menu in the browser, e.g., a user selects a menu option. The value of the menu option is passed in as the function’s argument."
   ]
  },
  {
   "cell_type": "raw",
   "metadata": {},
   "source": [
    "Since the function optionChanged() does not yet exist in plots.js, let's add it:\n",
    "\n",
    "function optionChanged(newSample) {\n",
    "  console.log(newSample);\n",
    "}\n",
    "\n",
    "It takes in an argument, named newSample, and logs it to the browser console. Note the following:\n",
    "\n",
    "This function is declared in plots.js, but it is never called in plots.js. It's instead called by the onchange attribute of the dropdown menu in index.html. Compare this to the init() function, which is both declared and called inplots.js.\n",
    "\n",
    "The argument name newSample refers to the value of the selected menu option. In index.html, onchange=optionChanged(this.value)passes the selected menu option's value to the optionChanged()function. This function gives this information the argument name newSample. In other words,this.value and newSample are equivalent.\n",
    "\n",
    "When an option is selected from the menu, its value is printed to the browser console:"
   ]
  },
  {
   "cell_type": "raw",
   "metadata": {},
   "source": [
    "The next task is to print information to the Demographic Infopanel: \n",
    "\n",
    "once a user selects an ID number, the associated volunteer's demographic information needs to be filtered from samples.json and placed in the panel.\n",
    "\n",
    "When a change takes place to the dropdown menu, two things will need to occur:\n",
    "\n",
    "1. The demographic information panel is populated with a specific volunteer's information.\n",
    "\n",
    "2. The volunteer's data is visualized in a separate div.\n",
    "\n",
    "These tasks should be modularized—that is, the code statements required to perform each task should be packaged as a separate function. When a change takes place to the dropdown menu, each function should be called. Notice that in the optionChanged() function, console.log(newSample); has been replaced with two function calls:\n",
    "\n",
    "function optionChanged(newSample) {\n",
    "  buildMetadata(newSample);\n",
    "  buildCharts(newSample);\n",
    "}\n",
    "\n",
    "Recall that optionChanged() is called from the HTML document and, in turn, calls buildMetadata() and buildCharts(). The argument, newSample, is the volunteer ID number that is passed to both of these functions. These two functions will use the ID number to create that specific individual's information panel and charts, respectively."
   ]
  },
  {
   "cell_type": "raw",
   "metadata": {},
   "source": [
    "Let's now declare the first of these functions: buildMetadata().\n",
    "\n",
    "function buildMetadata(sample) {\n",
    "  d3.json(\"samples.json\").then((data) => {\n",
    "    var metadata = data.metadata;\n",
    "    var resultArray = metadata.filter(sampleObj => sampleObj.id == sample);\n",
    "    var result = resultArray[0];\n",
    "    var PANEL = d3.select(\"#sample-metadata\");\n",
    "\n",
    "    PANEL.html(\"\");\n",
    "    PANEL.append(\"h6\").text(result.location);\n",
    "  });\n",
    "}\n",
    "\n",
    "Here's a breakdown of what's happening in this code:\n",
    "\n",
    "1. The function buildMetadata() takes in sample, or an ID number, as its argument. That is, when a dropdown menu option is selected, the ID number is passed in as sample.\n",
    "\n",
    "2. Then d3.json() pulls in the entire dataset contained in samples.json. Once the dataset is read in, it is referred to as data.\n",
    "\n",
    "3. The metadata array in the dataset (data.metadata) is assigned the variable metadata.\n",
    "\n",
    "4. Then the filter() method is called on the metadata array to filter for an object in the array whose id property matches the ID number passed into buildMetadata() as sample. Recall that each object in the metadata array contains information about one person.\n",
    "\n",
    "5. Because the results of the filter() method are returned as an array, the first item in the array (resultArray[0]) is selected and assigned the variable result.\n",
    "\n",
    "6. The id of the Demographic Info panel is sample-metadata. The d3.select() method is used to select this <div>, and the variable PANEL is assigned to it.\n",
    "\n",
    "7. PANEL.html(\"\") ensures that the contents of the panel are cleared when another ID number is chosen from the dropdown menu.\n",
    "\n",
    "8. Finally, the append() and text() methods are chained to append a H6 heading to the panel and print the location of the volunteer to the panel, respectively.\n"
   ]
  },
  {
   "cell_type": "raw",
   "metadata": {},
   "source": [
    "Which JavaScript method is used to iterate through the keys and values of an object?\n",
    "\n",
    "filter(): Incorrect. Remember that filter() is used on arrays, not objects.\n",
    "map(): Incorrect. Remember that map() is used on arrays, not objects\n",
    "\n",
    "Object.entries()"
   ]
  },
  {
   "cell_type": "raw",
   "metadata": {},
   "source": [
    "Which data structure type is returned by the Object.entries() method?\n",
    "Array"
   ]
  },
  {
   "cell_type": "raw",
   "metadata": {},
   "source": [
    "SKILL DRILL\n",
    "\n",
    "Open VS Code and modify the buildMetadata() function to populate the Demographic Info panel with the rest of the demographic data when a menu option is selected:"
   ]
  }
 ],
 "metadata": {
  "kernelspec": {
   "display_name": "PythonData",
   "language": "python",
   "name": "pythondata"
  },
  "language_info": {
   "codemirror_mode": {
    "name": "ipython",
    "version": 3
   },
   "file_extension": ".py",
   "mimetype": "text/x-python",
   "name": "python",
   "nbconvert_exporter": "python",
   "pygments_lexer": "ipython3",
   "version": "3.7.7"
  }
 },
 "nbformat": 4,
 "nbformat_minor": 4
}
