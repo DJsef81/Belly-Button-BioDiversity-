{
 "cells": [
  {
   "cell_type": "raw",
   "metadata": {},
   "source": [
    "12.5.1 Deploy the Project to GitHub Pages\n",
    "\n",
    "Running a local server allows Roza to test her code on the specific computer, but deploying her project onto a public server enables her to share it with her colleagues as well as the study participants.\n",
    "\n",
    "We will deploy a sample project to GitHub Pages. \n",
    "\n",
    "GitHub offers a free service called GitHub Pages to deploy projects like Roza's—that is, to run code on a GitHub server to make it viewable to the public. Without a server, anyone who wants to view Roza's dashboard would need to download the project files and run a local server, such as Python's HTTP server."
   ]
  },
  {
   "cell_type": "raw",
   "metadata": {},
   "source": [
    "We'll deploy a sample project (the code you just downloaded) to GitHub Pages. Behind the scenes, GitHub Pages runs a server app for your project, much like Python's HTTP server. \n",
    "\n",
    "However, whereas the local Python server makes the dashboard available only for the user of the specific computer on which it is run, GitHub Pages makes it available to anyone with an internet connection and a web browser. \n",
    "\n",
    "First, we'll use the sample project code to walk through the steps of deploying a project to GitHub Pages. Then we'll repeat these steps to deploy the belly button dashboard."
   ]
  },
  {
   "cell_type": "raw",
   "metadata": {},
   "source": [
    "First, to create a new repository on GitHub, navigate to https://github.com/ (Links to an external site.). Click the arrow next to your profile icon, and then select \"Your repositories.\"\n",
    "\n",
    "Select the option to make the repository public:\n",
    "\n",
    "Next, clone the repository by copying the URL:\n",
    "\n",
    "Type git clone in the command line and press Enter.\n",
    "\n",
    "Next, push the project to GitHub by following these steps:\n",
    "\n",
    "1. In the command line, navigate to the newly created repository directory.\n",
    "\n",
    "2. Copy and paste the HTML, JavaScript, and JSON files that you downloaded into the repository.\n",
    "\n",
    "3. In the command line, run git add .\n",
    "\n",
    "4. Run git commit -m \"\".\n",
    "\n",
    "5. Run git push origin main.\n",
    "\n",
    "Then navigate to your project page on GitHub and click on Settings to configure for deployment:\n",
    "\n",
    "Scroll down the Settings page to the GitHub Pages menu. Select \"main branch\" from the dropdown menu, and then click Save.\n",
    "\n",
    "The project should now be deployed to GitHub Pages. You can confirm this by checking that the URL of the deployed page is listed under the GitHub Pages options. You can also navigate to the URL of the deployed page, which will be in this format: <your account name>.github.io/<your repository name>. \n",
    "\n",
    "For example, if your GitHub account name is data_student, and you named your repository plotly_chart, the URL of the deployed page would be data_student.github.io/plotly_chart.\n",
    "\n"
   ]
  }
 ],
 "metadata": {
  "kernelspec": {
   "display_name": "PythonData",
   "language": "python",
   "name": "pythondata"
  },
  "language_info": {
   "codemirror_mode": {
    "name": "ipython",
    "version": 3
   },
   "file_extension": ".py",
   "mimetype": "text/x-python",
   "name": "python",
   "nbconvert_exporter": "python",
   "pygments_lexer": "ipython3",
   "version": "3.7.7"
  }
 },
 "nbformat": 4,
 "nbformat_minor": 4
}
