{
 "cells": [
  {
   "cell_type": "raw",
   "metadata": {},
   "source": [
    "12.4.1 JavaScript Event Listeners\n",
    "\n",
    "\n",
    "The missing link between the static visualizations and under-the-hood JavaScript data operations is interactivity. It is interactivity that will enable Roza to generate customizable charts dynamically. In order to make interactive visualizations, she'll first need to create JavaScript event listeners"
   ]
  },
  {
   "cell_type": "raw",
   "metadata": {},
   "source": [
    "First we'll help Roza create a very simple dropdown menu, and then build on our skills. Let's look at the contents of the index.html:\n",
    "\n",
    "<!DOCTYPE html>\n",
    "<html lang=\"en\">\n",
    "<head>\n",
    "  <meta charset=\"UTF-8\">\n",
    "  <meta name=\"viewport\" content=\"width=device-width, initial-scale=1.0\">\n",
    "  <meta http-equiv=\"X-UA-Compatible\" content=\"ie=edge\">\n",
    "  <title>Events</title>\n",
    "  <script src=\"https://cdnjs.cloudflare.com/ajax/libs/d3/5.9.7/d3.min.js\"></script>\n",
    "  <script src=\"https://cdn.plot.ly/plotly-latest.min.js\"></script>\n",
    "</head>\n",
    "<body>\n",
    "  <div id=\"menu\"></div>\n",
    "  <select id=\"selectOption\">\n",
    "    <option value=\"option1\">First Option</option>\n",
    "    <option value=\"option2\">Second Option</option>\n",
    "  </select>\n",
    "<script src=\"script.js\"></script>\n",
    "</body>\n",
    "</html>\n",
    "\n",
    "Note the following:\n",
    "\n",
    "1. This time, there are links to two CDNs: D3 and Plotly.\n",
    "\n",
    "2. The <select> tag indicates a dropdown menu. Its id is \"selectOption\".\n",
    "\n",
    "3. The dropdown menu has two options, as indicated by the two <option> tags.\n",
    "\n",
    "4. The option values \"option1\" and \"option2\" are internal names for each dropdown menu option.\n",
    "\n",
    "5. First Option and Second Option are the text displayed in the browser for each menu option.\n",
    "\n",
    "6. A plc tag links to script.js, a JavaScript file.\n"
   ]
  },
  {
   "cell_type": "raw",
   "metadata": {},
   "source": [
    "The <select> tag is used to create a dropdown menu. The <option> tag is used to create each menu option."
   ]
  },
  {
   "cell_type": "raw",
   "metadata": {},
   "source": [
    "Now open script.js:\n",
    "\n",
    "d3.selectAll(\"body\").on(\"change\", updatePage);\n",
    "\n",
    "function updatePage() {\n",
    "  var dropdownMenu = d3.selectAll(\"#selectOption\").node();\n",
    "  var dropdownMenuID = dropdownMenu.id;\n",
    "  var selectedOption = dropdownMenu.value;\n",
    "\n",
    "  console.log(dropdownMenuID);\n",
    "  console.log(selectedOption);\n",
    "};\n",
    "\n",
    "The first line uses the d3.selectAll() method to create an event listener.\n",
    "\n",
    "Whenever there is a change to the HTML body, the updatePage()function is called. That is, when an event occurs on the page, such as selection of a dropdown menu option, the updatePage() function is triggered.\n",
    "\n",
    "d3.selectAll().on(\"change\", ); creates an event listener that triggers the custom function every time a change takes place to the HTML element specified by selectAll().\n",
    "\n",
    "1. The function uses d3.selectAll() to select the dropdown menu, which has an id of selectOption.\n",
    "\n",
    "2. The id of the dropdown menu, selectOption, is assigned the variable dropdownMenuID.\n",
    "\n",
    "3. Whenever a dropdown menu option is selected, its value is assigned the variable selectedOption. Note that selectOption is the id value of the dropdown menu, while selectedOption is the option that is chosen by the user.\n",
    "\n",
    "4. Each time updatePage() is triggered, the id value of the dropdown menu, as well as the value of the chosen menu option, are printed to the browser console.\n"
   ]
  },
  {
   "cell_type": "raw",
   "metadata": {},
   "source": [
    "When we open the browser, we'll see a dropdown menu with two options.Dropdown menu of First Option and Second Option displayed in the\n",
    "browser.\n",
    "\n",
    "If we open the console, we'll see that every time we toggle between the two menu options, selectOption and the option value are printed to the console:"
   ]
  },
  {
   "cell_type": "raw",
   "metadata": {},
   "source": [
    "Suppose that you add the following line of code to the updatePage() function. What will it print to the browser console when a dropdown menu item is selected?\n",
    "\n",
    "console.log(d3.selectAll(\"#menu\").node().id);\n",
    "\n",
    "menu\n",
    "\n",
    "It will print menu, which is the id of the div that contains the dropdown menu. The div is selected by the d3.selectAll() method, and its id property is printed to the conso\n"
   ]
  },
  {
   "cell_type": "raw",
   "metadata": {},
   "source": [
    "SKILL DRILL\n",
    "\n",
    "Create a new directory, containing new index.html and script.js files. Use the D3.js library to create an event listener for a dropdown menu.\n",
    "\n",
    "Your dropdown menu should contain the following names: Mickey, Minnie, Donald, Goofy. When a character (e.g., Minnie) is chosen from the dropdown menu by a user, the character's name should be printed to the browser console."
   ]
  },
  {
   "cell_type": "raw",
   "metadata": {},
   "source": [
    "12.4.2 Create a Dynamic Plotly Chart\n",
    "\n",
    "She'll now create a dynamic line chart: there will be a dropdown menu in the browser with two options. When an option is selected, the browser will display the graph for the dataset associated with that option.\n",
    "\n",
    "This skill will help Roza with a major task in her project: to create a dashboard in which her volunteers can select their anonymized ID from a dropdown menu in the browser in order to display information about their belly button critters."
   ]
  },
  {
   "cell_type": "raw",
   "metadata": {},
   "source": [
    "We'll first help Roza create a simple dynamic line chart in Plotly. As before, we'll create an index.html page with the appropriate links to CDNs and a JavaScript file (plots.js). The page also has a dropdown menu with an id of dropdownMenu:\n",
    "\n",
    "<!DOCTYPE html>\n",
    "<html lang=\"en\">\n",
    "<head>\n",
    "  <meta charset=\"UTF-8\">\n",
    "  <meta name=\"viewport\" content=\"width=device-width, initial-scale=1.0\">\n",
    "  <meta http-equiv=\"X-UA-Compatible\" content=\"ie=edge\">\n",
    "  <title>Events</title>\n",
    "  <script src=\"https://d3js.org/d3.v5.min.js\"></script>\n",
    "  <script src=\"https://cdn.plot.ly/plotly-latest.min.js\"></script>\n",
    "</head>\n",
    "<body>\n",
    "  <div id=\"plot\"></div>\n",
    "  <select id=\"dropdownMenu\">\n",
    "    <option value=\"dataset1\">DataSet1</option>\n",
    "    <option value=\"dataset2\">DataSet2</option>\n",
    "  </select>\n",
    "  <script src=\"plots.js\"></script>\n",
    "</body>\n",
    "</html>"
   ]
  },
  {
   "cell_type": "raw",
   "metadata": {},
   "source": [
    "plots.js:\n",
    "\n",
    "function init() {\n",
    "  data = [{\n",
    "    x: [1, 2, 3, 4, 5],\n",
    "    y: [1, 2, 4, 8, 16] }];\n",
    "  Plotly.newPlot(\"plot\", data);\n",
    "};\n",
    "\n",
    "d3.selectAll(\"#dropdownMenu\").on(\"change\", updatePlotly);\n",
    "function updatePlotly() {\n",
    "  var dropdownMenu = d3.select(\"#dropdownMenu\");\n",
    "  var dataset = dropdownMenu.property(\"value\");\n",
    "\n",
    "  var xData = [1, 2, 3, 4, 5];\n",
    "  var yData = [];\n",
    "\n",
    "  if (dataset === 'dataset1') {\n",
    "    yData = [1, 2, 4, 8, 16];\n",
    "  };\n",
    "\n",
    "  if (dataset === 'dataset2') {\n",
    "    yData = [1, 10, 100, 1000, 10000];\n",
    "  };\n",
    "\n",
    "  var trace = {\n",
    "    x: [xData],\n",
    "    y: [yData],\n",
    "  };\n",
    "  Plotly.restyle(\"plot\", trace);\n",
    "};\n",
    "\n",
    "init();"
   ]
  },
  {
   "cell_type": "raw",
   "metadata": {},
   "source": [
    "The first function to execute is init(), which renders the initial visualization:\n",
    "\n",
    "function init() {\n",
    "  data = [{\n",
    "    x: [1, 2, 3, 4, 5],\n",
    "    y: [1, 2, 4, 8, 16] }];\n",
    "  Plotly.newPlot(\"plot\", data);\n",
    "};\n",
    "init();\n",
    "\n",
    "In this part of the code, a simple line chart, with x and y axes, is rendered with Plotly.newPlot(). By default, when a user opens index.html in a browser, this is the chart that is displayed:\n",
    "\n",
    "Notice, however, that there is a dropdown menu, and that the visualization changes when the DataSet2 option is selected:\n",
    "\n",
    "Which function is triggered when a dropdown menu option is selected?\n",
    "updatePlotly()\n",
    "This is the function that is called when a user creates an event—in this case, selecting a dropdown menu option."
   ]
  },
  {
   "cell_type": "raw",
   "metadata": {},
   "source": [
    "When the user first loads the page, init() is called, and the initial plot is rendered. However, when the user selects a dropdown menu option, the updatePlotly() function is called:\n",
    "\n",
    "d3.selectAll(\"#dropdownMenu\").on(\"change\", updatePlotly);\n",
    "\n",
    "Specifically, through the d3.selectAll() function, when a change takes place to the HTML DOM element with the id of dropdownMenu, the upDatePlotly() function is triggered."
   ]
  },
  {
   "cell_type": "raw",
   "metadata": {},
   "source": [
    "Let's now dissect the updatePlotly() function:\n",
    "\n",
    "function updatePlotly() {\n",
    "  var dropdownMenu = d3.select(\"#dropdownMenu\");\n",
    "  var dataset = dropdownMenu.property(\"value\");\n",
    "\n",
    "  var xData = [1, 2, 3, 4, 5];\n",
    "  var yData = [];\n",
    "\n",
    "  if (dataset === 'dataset1') {\n",
    "    yData = [1, 2, 4, 8, 16];\n",
    "  };\n",
    "\n",
    "  if (dataset === 'dataset2') {\n",
    "    yData = [1, 10, 100, 1000, 10000];\n",
    "  };\n",
    "\n",
    "  var trace = {\n",
    "    x: [xData],\n",
    "    y: [yData],\n",
    "  };\n",
    "\n",
    "  Plotly.restyle(\"plot\", trace);\n",
    "};\n",
    "\n",
    "\n",
    "1. The variable dropdownMenu is assigned to the DOM element with the id of dropdownMenu. Recall that it's the dropdown menu from index.html:\n",
    "\n",
    "<select id=\"dropdownMenu\">\n",
    "  <option value=\"dataset1\">DataSet1</option>\n",
    "  <option value=\"dataset2\">DataSet2</option>\n",
    "</select>\n",
    "\n",
    "2. The variable dataset is assigned to the value of the dropdown menu option selected by the user. Here, it is either \"dataset1\"or \"dataset2\".\n",
    "\n",
    "3. The rest of updatePlotly() function is concerned with switching between two datasets:"
   ]
  },
  {
   "cell_type": "raw",
   "metadata": {},
   "source": [
    "4. The x-axis values, or xData, remain the same. However, the y-axis values, or yData, depend on which dropdown menu option was selected. yData is initially a blank array.\n",
    "\n",
    "5. If the value of the dropdown menu option is 'dataset1', yData is assigned an array of integers. If 'dataset2' is chosen, another array of integers is assigned to yData.\n",
    "\n",
    "6. The xData and yData arrays are assembled inside the trace object. Unlike the Plotly.newPlot() method, thePlotly.restyle() method defaults to accepting an object (trace in this case) as its data argument, rather than an array.\n",
    "\n",
    "7. The Plotly.restyle() method is used to re-render the page on the browser. This method is more efficient than calling the Plotly.newPlot() method, as it does not create a brand new chart from scratch, but instead modifies the previously displayed chart with the updated information.\n"
   ]
  },
  {
   "cell_type": "raw",
   "metadata": {},
   "source": [
    "In the line Plotly.restyle(“plot” trace);, what do the two arguments refer to, respectively?\n",
    "A div containing a chart and a JavaScript object.\n",
    "The first argument, “plot”, refers to the HTML div, and the second argument, trace, refers to a JavaScript object that contains the data."
   ]
  },
  {
   "cell_type": "code",
   "execution_count": null,
   "metadata": {},
   "outputs": [],
   "source": []
  }
 ],
 "metadata": {
  "kernelspec": {
   "display_name": "PythonData",
   "language": "python",
   "name": "pythondata"
  },
  "language_info": {
   "codemirror_mode": {
    "name": "ipython",
    "version": 3
   },
   "file_extension": ".py",
   "mimetype": "text/x-python",
   "name": "python",
   "nbconvert_exporter": "python",
   "pygments_lexer": "ipython3",
   "version": "3.7.7"
  }
 },
 "nbformat": 4,
 "nbformat_minor": 4
}
