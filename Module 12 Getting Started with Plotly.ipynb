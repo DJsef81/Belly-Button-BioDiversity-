{
 "cells": [
  {
   "cell_type": "raw",
   "metadata": {},
   "source": [
    "Here is a rundown of what you will need:\n",
    "\n",
    "1. VS Code: You will use a text editor to create and edit HTML and JavaScript files.\n",
    "\n",
    "2. Web browser: You will use a web browser, such as Chrome, to view, inspect, and debug your visualizations. We will use Chrome in our examples.\n",
    "\n",
    "3. Command-line interface: You will use the command-line interface to run a local server. If you're a Mac user, this means Terminal. If you're a Windows user, you'll be using Git Bash.\n",
    "\n",
    "4. GitHub: As you will deploy your final data visualization on GitHub Pages, you will need your GitHub account."
   ]
  },
  {
   "cell_type": "raw",
   "metadata": {},
   "source": [
    "12.1.2 Inspect a Plotly.js Chart\n",
    "\n",
    "To get started, download the data you'll need for this project: index.html and plot.js.\n",
    "\n",
    "Open index.html in your browser.\n",
    "\n",
    "This is a simple line chart with three data points. Notice that gridlines are supplied automatically.\n",
    "\n",
    "Next, place your mouse over the top right corner of the chart, and you'll see the following menu appear. \n",
    "\n",
    "It has options such as zoom, zoom out, and pan. This menu also comes with the Plotly library and will be available for every visualization you create."
   ]
  },
  {
   "cell_type": "raw",
   "metadata": {},
   "source": [
    "Next, open index.html in VS Code. You should see the following code.\n",
    "\n",
    "<!DOCTYPE html>\n",
    "<html lang=\"en\">\n",
    "<head>\n",
    "   <meta charset=\"UTF-8\">\n",
    "   <meta name=\"viewport\" content=\"width=device-width, initial-scale=1.0\">\n",
    "   <meta http-equiv=\"X-UA-Compatible\" content=\"ie=edge\">\n",
    "   <title>Basic Charts</title>\n",
    "   <script src=\"https://cdn.plot.ly/plotly-latest.min.js\"></script>\n",
    "</head>\n",
    "<body>\n",
    "   <div id=\"plotArea\"></div>\n",
    "   <script src=\"plots.js\"></script>\n",
    "</body>\n",
    "</html>\n",
    "\n",
    "Let's break the code down:\n",
    "\n",
    "1. The first <script> tag links to a file called plotly-latest.min.js, which is downloaded from an online host. This file contains the JavaScript code that makes up the Plotly library. Such a link is called a CDN.\n",
    "\n",
    "2. CDN stands for Content Delivery Network. In short, a CDN provides links to downloadable resources, such as Plotly library code. An alternative to using CDNs is to download the file and use it locally, but using this particular CDN ensures that the most up-to-date version of Plotly is always delivered.\n",
    "\n",
    "3. The <div> with the ID plotArea refers to the div in which the chart will be displayed. You can also give the div another id of your choice.\n",
    "\n",
    "4. The second <script> tag refers to the file named plots.js, which contains the JavaScript code."
   ]
  },
  {
   "cell_type": "raw",
   "metadata": {},
   "source": [
    "Open plots.js. You will see the following line of code.\n",
    "\n",
    "Plotly.newPlot(\"plotArea\", [{x: [1,2,3], y:[10,20,30]}]);\n",
    "\n",
    "A chart was created with a single line of code! The Plotly.newPlot() method creates a new chart, as its name indicates. This method has two arguments:\n",
    "\n",
    "The first argument in Plotly,newPlot() is \"plotArea\". Recall that this corresponds to the ID of the <div> tag in the HTML document.\n",
    "\n",
    "The second argument is an array, as indicated by the square brackets. Inside the array is an object, as notated by the curly brackets, in which values of x and y are specified. The x and y values are contained inside arrays as well.\n"
   ]
  },
  {
   "cell_type": "raw",
   "metadata": {},
   "source": [
    "You want to create a line chart of Cartesian coordinates. The x-coordinates are 5, 10, 15  and 20. The y-coordinates are 3, 6, 9 and 12. How would the data be formatted for Plotly?\n",
    "\n",
    "[{x: [5,10,15,20], y:[3,6,9,12]}]\n",
    "\n",
    "There is an outer array that wraps around the object. The object, in turn, has two keys: x and y. The corresponding value for each key is an array of numbers.\n",
    "\n",
    "The formatting matters in Plotly! Make sure that your data is enclosed inside an outer array.\n"
   ]
  },
  {
   "cell_type": "raw",
   "metadata": {},
   "source": [
    "In VS Code, create a JavaScript file named plots.js. In this file, write the code for a line chart with the following values. X: 5,10,15. Y: 10,20,30. The chart will be displayed in a div named plotArea. What will your code look like?\n",
    "\n",
    "Plotly.newPlot(“plotArea”, [{x:[5,10,15],y:[10,20,30]}]);\n",
    "\n",
    "Plotly.newPlot() creates a new chart in the plotArea div in the HTML. The data is in an object, which is itself wrapped inside an array."
   ]
  },
  {
   "cell_type": "raw",
   "metadata": {},
   "source": [
    "SKILL DRILL\n",
    "\n",
    "Open VS Code and use Plotly to create a line chart of your own.\n",
    "\n",
    "Play around with the div ID, the JavaScript file name, and the data array. Then verify the results by opening index.html with your browser. You should see a chart. If the chart doesn't render, try opening the developer/debugging console.\n",
    "\n",
    "Make sure that you are comfortable with creating a line chart with Plotly before moving on."
   ]
  },
  {
   "cell_type": "raw",
   "metadata": {},
   "source": [
    "12.1.3 Create a Bar Chart\n",
    "\n",
    "(The terms graph, chart, and plot are used interchangeably here.)\n",
    "\n",
    "To help Roza improve her visualization skills using Plotly, we'll use an example of ordering food for a department luncheon.\n",
    "\n",
    "The 33 people in the department are surveyed about their lunch preferences. They were asked to choose burritos, pizza, or chicken for the department lunch. 10 voted for burritos, 18 for pizza, and 5 for chicken. Let's help Roza plot the results.\n",
    "\n",
    "How do we make a bar chart out of this data?"
   ]
  },
  {
   "cell_type": "raw",
   "metadata": {},
   "source": [
    "var trace = {\n",
    "   x: [\"burrito\", \"pizza\", \"chicken\"],\n",
    "   y: [10, 18, 5],\n",
    "   type: \"bar\"\n",
    "};\n",
    "Plotly.newPlot(\"plotArea\", [trace]);\n",
    "\n",
    "There are several differences between the code seen here and the code from the first chart we created.\n",
    "\n",
    "Plotly.newPlot(\"plotArea\", [{x:[1,2,3], y:[10,20,30]}]);\n",
    "\n",
    "The data is no longer contained inside the Plotly.newPlot() method. The object that contains the x and y arrays is instead assigned to the variable \"trace.\" This variable, trace, is the second argument of the newPlot(). \n",
    "\n",
    "Note, however, that the contents of the variable have been enclosed inside an array. The effect is still the same: an object contained inside an array.\n",
    "\n",
    "The trace object now specifies the chart as a bar chart with type: \"bar\".\n",
    "\n",
    "Note that it makes sense to assign the data to a variable, as it would be very unwieldy to place an entire dataset inside the Plotly.newPlot() function call.\n",
    "\n"
   ]
  },
  {
   "cell_type": "raw",
   "metadata": {},
   "source": [
    "Troubleshooting\n",
    "\n",
    "Every programmer runs into errors: troubleshooting is part of the job! If a plot doesn't render in the browser, try inspecting the browser console. \n",
    "\n",
    "In Chrome, you would click on View in the menu, followed by Developer, then JavaScript Console:\n",
    "\n"
   ]
  },
  {
   "cell_type": "raw",
   "metadata": {},
   "source": [
    "Choose Layout Options\n",
    "\n",
    "So far, so good! But something is still missing. The chart would be vastly improved by including a title and axis labels. \n",
    "\n",
    "A good data visualization practice is to make graphs as clear as possible to viewers. Adding a title and labeling the axes will help them understand what they see. Let's first add a title to the graph.\n",
    "\n",
    "Take a look at our code.\n",
    "\n",
    "var trace = {\n",
    "    x: [\"burrito\", \"pizza\", \"chicken\"],\n",
    "    y: [10, 18, 5],\n",
    "    type: \"bar\"\n",
    "};\n",
    "\n",
    "var layout = {\n",
    "    title: \"Luncheon Survey\"\n",
    "};\n",
    "\n",
    "Plotly.newPlot(\"plotArea\", [trace], layout);\n",
    "\n",
    "What do you notice that's different?\n",
    "\n",
    "There is an object assigned to the variable layout. It contains the key title and the value \"Luncheon Survey\".\n",
    "Plotly.newPlot()now has a third argument: layout, which refers to the object we just discussed.\n",
    "\n",
    "The chart now has a title.\n",
    "\n"
   ]
  },
  {
   "cell_type": "raw",
   "metadata": {},
   "source": [
    "but our chart is still missing axis labels. From glancing at this chart, we know that the label on the x-axis for each column is the food item. What about the y-axis, though? It's difficult to determine at a glance what the numbers mean. For example, does \"10\" for burrito indicate that 10 types of burritos were ordered? Labeling the axes on a chart helps avoid this ambiguity.\n",
    "\n",
    "Take a look at the code. What do you notice?\n",
    "\n",
    "var layout = {\n",
    "    title: \"Luncheon Survey\",\n",
    "    xaxis: {title: \"Food Option\"},\n",
    "    yaxis: {title: \"Number of Respondents\"}\n",
    "};\n",
    "Plotly.newPlot(\"plotArea\", trace, layout);\n",
    "\n",
    "\n",
    "In the same layout object, two key-value pairs have been added. The first key, xaxis, denotes the axis label for the x-axis. Its value, {title: \"Food Option\"}, is itself an object whose key is title and whose value is Food Option. The same format holds for the y-axis label.\n",
    "\n"
   ]
  },
  {
   "cell_type": "raw",
   "metadata": {},
   "source": [
    "SKILL DRILL\n",
    "Open VS Code and create a new bar chart with Plotly. This graph will chart several beverages and the percentage of the total number of orders they comprise in a popular nonalcoholic bar. Here is your data:\n",
    "\n",
    "Drinks: [\"nonalcoholic beer\", \"nonalcoholic wine\", \"nonalcoholic martini\", \"nonalcoholic margarita\", \"ice tea\", \"nonalcoholic rum & coke\", \"nonalcoholic mai tai\", \"nonalcoholic gin & tonic\"]\n",
    "\n",
    "Percent of Drinks Ordered: [22.7, 17.1, 9.9, 8.7, 7.2, 6.1, 6.0, 4.6]\n",
    "\n",
    "Be sure to give the plot a title and label the axes.\n",
    "\n",
    "Roza decides to create a \"bar\" chart of popular beverages in a nonalcoholic bar, as well. This is her code:\n",
    "\n",
    "var trace = {\n",
    " x: [\"nonalcoholic beer\", \"nonalcoholic wine\", \"nonalcoholic martini\", \"nonalcoholic margarita\", \"ice tea\", \"nonalcoholic rum & coke\", \"nonalcoholic mai tai\", \"nonalcoholic gin & tonic\"],\n",
    " y: [22.7, 17.1, 9.9, 8.7, 7.2, 6.1, 6.0, 4.6],\n",
    " type: \"bar\"\n",
    "};\n",
    "var data = [trace];\n",
    "var layout = {\n",
    " title: \"'Bar' Chart\",\n",
    " xaxis: { title: \"Drinks\"},\n",
    " yaxis: { title: \"% of Drinks Ordered\"}\n",
    "};\n",
    "Plotly.newPlot(\"plotArea\", data, layout);"
   ]
  },
  {
   "cell_type": "raw",
   "metadata": {},
   "source": [
    "12.1.4 Create a Pie Chart\n",
    "\n",
    "Since the bar dataset is the percentage of total sales comprised by each drink, Roza believes that a pie chart may be helpful in providing an instant view of the relative popularity of each drink. So she creates a pie chart of the bar data:\n",
    "\n",
    "var trace = {\n",
    "  x: [\"nonalcoholic beer\", \"nonalcoholic wine\", \"nonalcoholic martini\", \"nonalcoholic margarita\",\n",
    "     \"ice tea\", \"nonalcoholic rum & coke\", \"nonalcoholic mai tai\", \"nonalcoholic gin & tonic\"],\n",
    "  y: [22.7, 17.1, 9.9, 8.7, 7.2, 6.1, 6.0, 4.6],\n",
    "  type: 'pie'\n",
    "};\n",
    "var data = [trace];\n",
    "var layout = {\n",
    "  title: \"'Pie' Chart\",\n",
    "};\n",
    "Plotly.newPlot(\"plotArea\", data, layout);\n",
    "\n",
    "It doesn't render. Why? Because pie charts don't use x/y values\n",
    "\n",
    "var trace = {\n",
    " labels: [\"nonalcoholic beer\", \"nonalcoholic wine\", \"nonalcoholic martini\", \"nonalcoholic margarita\",\n",
    " \"ice tea\", \"nonalcoholic rum & coke\", \"nonalcoholic mai tai\", \"nonalcoholic gin & tonic\"],\n",
    " values: [22.7, 17.1, 9.9, 8.7, 7.2, 6.1, 6.0, 4.6],\n",
    " type: 'pie'\n",
    "};\n",
    "var data = [trace];\n",
    "var layout = {\n",
    " title: \"'Pie' Chart\",\n",
    "};\n",
    "Plotly.newPlot(\"plotArea\", data, layout);\n",
    "\n",
    "She now has a clearer view of the relative contribution of each drink to total sales. Encouraged and empowered, Roza decides to consult the Plotly.js documentation to see what other visualizations are possible with Plotly. Fortunately, Plotly is a well-documented library, and the documentation is easy to read."
   ]
  }
 ],
 "metadata": {
  "kernelspec": {
   "display_name": "PythonData",
   "language": "python",
   "name": "pythondata"
  },
  "language_info": {
   "codemirror_mode": {
    "name": "ipython",
    "version": 3
   },
   "file_extension": ".py",
   "mimetype": "text/x-python",
   "name": "python",
   "nbconvert_exporter": "python",
   "pygments_lexer": "ipython3",
   "version": "3.7.7"
  }
 },
 "nbformat": 4,
 "nbformat_minor": 4
}
