{
 "cells": [
  {
   "cell_type": "raw",
   "metadata": {},
   "source": [
    "12.3.1 Inspect an API call with D3.json()\n",
    "\n",
    "\n",
    "The belly button data exists in JSON format. \n",
    "\n",
    "In order to be able to visualize it with Plotly, she must be able to read the data into her script file. \n",
    "\n",
    "She will use the D3.js library to do this. While D3 is primarily a data visualization library, its d3.json() method will allow Roza to read external JSON files, as well as place calls to external web APIs for data.\n",
    "\n",
    "Roza will gain familiarity with using d3.json() by first placing an API call to SpaceX, the aerospace manufacturer specializing in space travel.\n",
    "\n",
    "(JSON, JavaScript Object Notation, is a data format that sorts and presents data in the form of key-value pairs. It looks much like a Python dictionary and can be traversed through using dot notation.)"
   ]
  },
  {
   "cell_type": "raw",
   "metadata": {},
   "source": [
    "et's first take a look at Roza's index.html file:\n",
    "\n",
    "<!DOCTYPE html>\n",
    "<html lang=\"en\">\n",
    "<head>\n",
    "  <meta charset=\"UTF-8\">\n",
    "  <meta name=\"viewport\" content=\"width=device-width, initial-scale=1.0\">\n",
    "  <meta http-equiv=\"X-UA-Compatible\" content=\"ie=edge\">\n",
    "  <title>SpaceX API</title>\n",
    "</head>\n",
    "<body>\n",
    "  <h1>Open the console!</h1>\n",
    "  <script src=\"https://cdnjs.cloudflare.com/ajax/libs/d3/5.9.7/d3.min.js\"></script>\n",
    "  <script src=\"spaceX.js\"></script>\n",
    "</body>\n",
    "</html>\n",
    "\n",
    "Like Plotly, theD3.js library is downloaded from its CDN link, and loaded into the HTML file. The code Roza writes will be in spaceX.js."
   ]
  },
  {
   "cell_type": "raw",
   "metadata": {},
   "source": [
    "create a new file: spaceX.js and fill it with this\n",
    "\n",
    "const url = \"https://api.spacexdata.com/v2/launchpads\";\n",
    "\n",
    "d3.json(url).then(receivedData => console.log(receivedData));\n",
    "\n",
    "The actual API call to SpaceX is made in these two lines of code:\n",
    "\n",
    "1. In the first line, the URL to the SpaceX is defined.\n",
    "\n",
    "2. In the second line, d3.json() method places a call to SpaceX's API, retrieves the data, and prints it to the browser console.\n",
    "\n",
    "The d3.json() returns a JavaScript promise: it places an API call to the URL and executes subsequent lines of code only when the API call is complete. \n",
    "\n",
    "Once the data is retrieved, it is assigned the arbitrary parameter name receivedData by the arrow function and printed in the console.\n",
    "\n",
    "The d3.json().then() method ensures that the data is received before executing the arrow function. In summary, a JavaScript promise in this case waits for the data retrieval to finish before moving on to the next code."
   ]
  },
  {
   "cell_type": "raw",
   "metadata": {},
   "source": [
    "JavaScript is an asynchronous language, meaning that a code statement doesn't necessarily wait for the previous statement to finish executing.\n",
    "\n",
    "When a statement involves a task that can take a relatively long time to complete, such as reading large files or retrieving data from an API, the next statement of code can begin executing before the previous task finishes. \n",
    "\n",
    "Using a promise with the then() method ensures that all the data requested from the API is received before executing the next part of code."
   ]
  },
  {
   "cell_type": "raw",
   "metadata": {},
   "source": [
    "Will the following lines of code run? \n",
    "\n",
    "const url = \"https://api.spacexdata.com/v2/launchpads\";\n",
    "d3.json(url).then(data => console.log(data));\n",
    "\n",
    "Yes. The parameter of the arrow function, named data here, is arbitrary and could be named anything else, e.g., d3.json(url).then(spaceXResults =>\n",
    "console.log(spaceXResults));"
   ]
  },
  {
   "cell_type": "raw",
   "metadata": {},
   "source": [
    "Open rosa's index (index_rosa.html) in our browser.\n",
    "\n",
    "We can see that an array of six objects is returned. Each object contains details about a specific SpaceX launch site, such as the number of space vehicles that have been successfully launched from the site.\n",
    "\n"
   ]
  },
  {
   "cell_type": "raw",
   "metadata": {},
   "source": [
    "How would Roza rewrite the code to retrieve the details only from the Vandenberg Air Force Base?\n",
    "\n",
    "She would use indexing to retrieve only the first element in the array returned from the API call.\n",
    "\n",
    "d3.json(url).then(spaceXResults =>\n",
    "console.log(spaceXResults[0]));\n",
    "\n",
    "The arbitrarily named variable spaceXResults represents the entire dataset retrieved from the API call. The first element returned contains the details of that particular location."
   ]
  },
  {
   "cell_type": "raw",
   "metadata": {},
   "source": [
    "The details of each location, as you have just seen, are enclosed within a JavaScript object. Its properties can therefore be accessed with the dot notation. The code to retrieve the full_nameof the Vandenberg Air Force Base would look like this:\n",
    "\n",
    "d3.json(url).then(spaceXResults => console.log(spaceXResults[0].full_name));\n",
    "\n",
    "Note also that the value for the location key is an object: \n",
    "\n"
   ]
  },
  {
   "cell_type": "raw",
   "metadata": {},
   "source": [
    "How would Roza access the latitude of the Vandenberg Airforce Base?\n",
    "\n",
    "d3.json(url).then(spaceXResults =>\n",
    "console.log(spaceXResults[0].location.latitude));\n",
    "\n",
    "She would use the dot notation twice to access the nested property.\n"
   ]
  },
  {
   "cell_type": "raw",
   "metadata": {},
   "source": [
    "SKILL DRILL\n",
    "\n",
    "Use map() to print only the latitude and longitude coordinates of each SpaceX launch station.\n",
    "\n",
    "d3.json(url).then(spaceXresults => {\n",
    "  var LatLong = spaceXresults.map(function(city){\n",
    "    return [city['location']['latitude'], city['location']['longitude']]\n",
    "  })\n",
    "\n",
    "  console.log(LatLong)\n",
    "})"
   ]
  },
  {
   "cell_type": "raw",
   "metadata": {},
   "source": [
    "12.3.2 Load a JSON file with D3.json()\n",
    "\n",
    "ready to load the belly button data into her script. First, she needs to download the data file to her computer. She'll then use two things to read the data file: the D3.js library and a local server.\n",
    "\n",
    "Download the samples.json file\n",
    "\n",
    "Recall the previous syntax used to place an API call:\n",
    "\n",
    "const url = \"https://api.spacexdata.com/v2/launchpads\";\n",
    "d3.json(url).then();\n",
    "\n",
    "Here, the URL string is received by d3.json() as an argument. The d3.json() method then retrieves the data from the address specified by the URL. After the data is fully retrieved, the function inside the then()method is executed.\n",
    "\n",
    "The syntax used to retrieve data from an external data file, instead of a web API, is the same:\n",
    "\n",
    "d3.json(\"samples.json\").then(function(data){\n",
    "    console.log(\"hello\");\n",
    "});\n",
    "\n",
    "When we open the browser, however, nothing is printed to the console. We get an error message:\n",
    "\n",
    "\"Fetch API cannot load\" ______________________________\n",
    "\"URL scheme must be \"HTTP\" or \"HTTPS\" for CORS request\"\n"
   ]
  },
  {
   "cell_type": "raw",
   "metadata": {},
   "source": [
    "What gives? What is a CORS request?\n",
    "\n",
    "The short explanation is that, for security reasons, a local server must be run when loading an external file into a JavaScript script file. If you don't understand these security issues right now, don't worry. We will come back to it later.\n",
    "\n",
    "To load the page, navigate to the directory where samples.json and index.html, as well as the script file, plots.js, are located. Open the command line (Terminal or Git Bash) and type the following:\n",
    "\n",
    "python -m http.server\n",
    "\n",
    "You should see the following message in the command line:\n",
    "\n",
    "Serving HTTP on 0.0.0.0 port 8000 (http://0.0.0.0:8000/) ...\n",
    "127.0.0.1 - - [30/Oct/2019 13:23:53] \"GET / HTTP/1.1\" 304 -\n",
    "\n",
    "Navigate to the given port number in your browser: localhost:8000. When you do this, you'll see the following screen:\n",
    "\n"
   ]
  },
  {
   "cell_type": "raw",
   "metadata": {},
   "source": [
    "SKILL DRILL\n",
    "Repeat the following steps:\n",
    "\n",
    "Create a directory on your computer and copy the file samples.json into it.\n",
    "Create index.html and plots.js files.\n",
    "Be sure to import D3.js via a CDN in your HTML file.\n",
    "Use d3.json()to read samples.json into your script.\n",
    "Print a simple message to your browser console.\n",
    "Run python -m http.server and open your browser to the port address (likely 8000)."
   ]
  },
  {
   "cell_type": "raw",
   "metadata": {},
   "source": [
    "You're now prepared to help Roza read and parse the actual data. Modify the code to change the printed console message from a simple \"hello\" to the entire dataset:\n",
    "\n",
    "d3.json(\"samples.json\").then(function(data){\n",
    "    console.log(data);\n",
    "});"
   ]
  },
  {
   "cell_type": "raw",
   "metadata": {},
   "source": [
    "Then examine the results in the browser console:\n",
    "\n",
    "The data is structured as an object that contains three keys at the top level: metadata, names, and samples. Each of these keys is associated with an array that contains 153 elements.\n",
    "\n",
    "Let's look at each array in more detail. Click on the arrows successively to list the details of the first person:\n",
    "\n",
    "The metadata array contains objects, each of which contains details of a volunteer, such as age, location, ethnicity, ID number, and weekly washing frequency of the belly button.\n",
    "\n"
   ]
  },
  {
   "cell_type": "raw",
   "metadata": {},
   "source": [
    "Roza wants to extract only the wfreq, or the weekly belly button washing frequency, of each person into a new array. What would her code look like?\n",
    "\n",
    "d3.json(\"samples.json\").then(function(data){\n",
    "    wfreq = data.metadata.map(person => person.wfreq);\n",
    "    console.log(wfreq);\n",
    "});\n",
    "\n",
    "The map() method is used to extract the wfreq property from each “person” in the data.metadata array."
   ]
  },
  {
   "cell_type": "raw",
   "metadata": {},
   "source": [
    "Roza now wants to sort the wfreq array in descending order. What would her code look like?\n",
    "\n",
    "d3.json(\"samples.json\").then(function(data){\n",
    "    wfreq = data.metadata.map(person =>\n",
    "person.wfreq).sort((a,b) => b - a);\n",
    "    console.log(wfreq);\n",
    "});\n",
    "\n",
    "Notice that the sort() method returns b - a to return the results in descending order. It would return a - b to return the results in ascending order."
   ]
  },
  {
   "cell_type": "raw",
   "metadata": {},
   "source": [
    "Roza now wants to delete null values from the sorted wfreq array. Which of the following methods would she use?\n",
    "\n",
    "filter()\n",
    "\n",
    "d3.json(\"samples.json\").then(function(data){\n",
    "    wfreq = data.metadata.map(person =>\n",
    "person.wfreq).sort((a,b) => b - a);\n",
    "    filteredWfreq = wfreq.filter(element => element !=\n",
    "null);\n",
    "    console.log(filteredWfreq);\n",
    "});"
   ]
  },
  {
   "cell_type": "raw",
   "metadata": {},
   "source": [
    "Now let's examine the rest of the dataset. Looking at the image below, we can see that names is simply an array of the ID numbers of the volunteers. Even though this information is included in the metadata array, the names array may be useful in rapidly retrieving an ID number when creating a plot.\n",
    "\n",
    "Next, check out the samples array and inspect the first element.\n",
    "\n",
    "The array's first element is an object, with four key-value pairs. Note the following:\n",
    "\n",
    "1. The id key identifies the ID number.\n",
    "\n",
    "2. The otu_ids property is an array of the ID numbers of all the bacteria found in this person's navel. OTU stands for Operational Taxonomic Unit, and here it means species or bacterial type. In this instance, there were 80 bacterial types with distinct ID numbers.\n",
    "\n",
    "3. The sample_values array contains the corresponding species name for each bacterial ID number. Some bacterial species have different ID numbers, but are clumped together under the same otu_label.\n",
    "\n",
    "In her final visualization of the belly button data, Roza would like to be able to select an individual from a dropdown menu. Once a person's ID number is selected, she would like to display the demographic information of that individual. Since each individual is represented by an object, she'll need to access both keys and values inside an object in order to do this."
   ]
  },
  {
   "cell_type": "raw",
   "metadata": {},
   "source": [
    "The Object.entries() method allows access to both an object's keys and values. It returns each key-value pair as an array.\n",
    "\n",
    "You are given the following object. Use Object.entries() to print each key-value pair inside an array.\n",
    "\n",
    "researcher1 = {\n",
    "    name: 'Roza',\n",
    "    age: 34,\n",
    "    hobby: 'Hiking'\n",
    "};\n",
    "console.log(Object.entries(researcher1));\n",
    "\n",
    "The Object.entries() method returns key-value pairs of an object as arrays. Run the code in your browser console to see!\n"
   ]
  },
  {
   "cell_type": "raw",
   "metadata": {},
   "source": [
    "The forEach()method allows access to each element of an array.\n",
    "\n",
    "Which of the following methods would you use to print to the console each trait and corresponding property?\n",
    "\n",
    "researcher1 = [['name', 'Roza'], ['age', 34], ['hobby',\n",
    "'Hiking']];\n",
    "\n",
    "forEach()\n",
    "\n",
    "This method iterates through each element in an array. In this case, there are smaller arrays, each including two elements, inside an outer array. \n",
    "\n",
    "To access these elements, the argument ([first, second]) is used, where first and second are arbitrarily chosen for convenience. They could have been named ([x, y]) or ([key, value]).\n",
    "\n",
    "researcher1.forEach(([first, second]) => console.log(first\n",
    "+ \": \" + second));"
   ]
  },
  {
   "cell_type": "raw",
   "metadata": {},
   "source": [
    "SKILL DRILL\n",
    "\n",
    "Use Object.entries()and forEach() to print all the metadata of the first person in the samples.json() dataset (ID 940).\n",
    "\n",
    "d3.json(\"samples.json\").then(function(data){\n",
    "    firstPerson = data.metadata[0];\n",
    "    Object.entries(firstPerson).forEach(([key, value]) =>\n",
    "      {console.log(key + ': ' + value);});\n",
    "});"
   ]
  },
  {
   "cell_type": "raw",
   "metadata": {},
   "source": [
    "In this case, we are extracting the metadata of the first person in the dataset, as indicated by the zero index position in metadata[0]. We then use the Object.entries() method to return each key-value pair in an array, and the forEach()method to access each element of these pairs.\n",
    "\n",
    "Open the browser console to see the results:"
   ]
  },
  {
   "cell_type": "raw",
   "metadata": {},
   "source": [
    "12.3.3 Handle CORS Errors\n",
    "\n",
    "Earlier, Roza discovered that she couldn't simply read in an external JSON dataset into her JavaScript file. Instead, she was required to run a local server. She wants to understand more about the CORS error message she came across, and why she must run a server to bypass it.\n",
    "\n",
    "When Roza first began to learn to use Plotly, the data used to create charts were contained in the JavaScript file.\n",
    "\n",
    "She was able to open index.html directly in her browser and see the graphs. \n",
    "\n",
    "Likewise, when she made a call to the SpaceX API, she was able to open index.html directly in her browser.\n",
    "\n",
    "However, when she attempted to read data from an external JSON file, she encountered an error:\n",
    "\n"
   ]
  },
  {
   "cell_type": "raw",
   "metadata": {},
   "source": [
    "To bypass this CORS error message, we navigated to the directory where index.html is located and ran python -m http.server in the CLI.\n",
    "\n",
    "CORS stands for Cross-Origin Resource Sharing. In short, browsers by default do not permit reading of resources from multiple sources. This restriction is in place because of security concerns.\n",
    "\n",
    "To better understand the issue, we first need to define servers. \n",
    "\n",
    "A server is a program or device that performs actions such as processing and sharing data. Our discussion will be limited to servers in the sense of software programs.\n",
    "\n",
    "A Flask app, for example, is a server program that processes and shares data. \n",
    "\n",
    "Likewise, when we place a call to the SpaceX API, there is a server behind the scenes that processes and shares the requested data. \n",
    "\n",
    "Another example is when a user logs in on a website, the server receives the user's information, compares it against information in its database, and approves or denies the login attempt.\n",
    "\n",
    "This is called a request-response model. The user (also known as the client) sends a request to the webpage server. The server, in turn, sends the requested data in response.\n",
    "\n",
    "Web browsers, for security reasons, heavily restrict reading from, and writing to, local files. If access to local files was allowed, remote sites would be allowed to read and manipulate your private data. Or simply opening a local file with the browser could trigger a malicious script that transmits your data across the internet. This is why we're unable to read a JSON file directly.\n",
    "\n",
    "However, running a static server, or python -m http.server in our case, allows us to skirt this restriction. Python's HTTP server provides a web address for both the JSON and HTML files to avoid these security issues.\n",
    "\n",
    "Now let's return to the browser error message: URL scheme must be 'http' or 'https' for CORS request. This means that the browser can request external data only through the HTTP/HTTPS protocols. In other words, the CORS policy, by default, does not allow data to come in through channels other than through HTTP or HTTPS. Furthermore, the origin of the data must be from a single source, unless specified by CORS.\n",
    "\n",
    "Here is a concrete example of how CORS works. Suppose that you navigate to a news website, and you are served an ad from adspamnetwork.com. If you happen to be logged into PayPal, and if these browser restrictions weren't in place, the JavaScript code in the ad might make an API call to PayPal and make unauthorized transactions. For this reason, browsers restrict a server from one site (adspamnetwork.com in this case) from making a request to a server from a different site (paypal.com) unless it has been given explicit permission.\n",
    "\n",
    "How, then, does a website such as ebay.com make API calls to PayPal? The browser generally makes a preflight request to the server, which verifies whether the browser's origin is allowed to make a request to it. The preflight request also includes other details, such as the types of requests permitted to be made, and the types of files permitted to be transferred. Then a request is made. The code on PayPal's server contains a CORS header that explicitly permits ebay.com to make API requests.\n",
    "\n",
    "By default, a browser will not be able to access a CSV file. This restriction can be bypassed by running a local server to give the CSV the same web address as the HTML, CSS, and JavaScript files."
   ]
  },
  {
   "cell_type": "code",
   "execution_count": null,
   "metadata": {},
   "outputs": [],
   "source": []
  }
 ],
 "metadata": {
  "kernelspec": {
   "display_name": "PythonData",
   "language": "python",
   "name": "pythondata"
  },
  "language_info": {
   "codemirror_mode": {
    "name": "ipython",
    "version": 3
   },
   "file_extension": ".py",
   "mimetype": "text/x-python",
   "name": "python",
   "nbconvert_exporter": "python",
   "pygments_lexer": "ipython3",
   "version": "3.7.7"
  }
 },
 "nbformat": 4,
 "nbformat_minor": 4
}
