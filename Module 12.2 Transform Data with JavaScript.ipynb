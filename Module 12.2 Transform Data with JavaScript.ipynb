{
 "cells": [
  {
   "cell_type": "raw",
   "metadata": {},
   "source": [
    "12.2.1 Functional JavaScript\n",
    "\n",
    "Roza is now familiar with creating various types of charts in Plotly. In order to visualize the data effectively, she needs to be able to manipulate the data. For example, out of the entire belly button dataset, she may wish to select only the data that pertain to one individual. She may also wish to sort data, so that she can display a data subset in ascending or descending order.\n",
    "\n",
    "Roza's next step is to delve into JavaScript to take advantage of its power in manipulating datasets. Roza will be able to do things like filter the data that meet her specific criteria and to apply a transformation to each element in the dataset, often with just a few lines of code."
   ]
  },
  {
   "cell_type": "raw",
   "metadata": {},
   "source": [
    "Map() method. \n",
    "\n",
    "The map()method in JavaScript applies a transformation to each element in an array. Like a for loop, it can perform an operation to every element of an array.\n",
    "\n",
    "Here is an example in which all the numbers of an array are doubled:\n",
    "\n",
    "var numbers = [1,2,3,4,5];\n",
    "var doubled = numbers.map(function(num){\n",
    "    return num * 2;\n",
    "});\n",
    "console.log(doubled);\n"
   ]
  },
  {
   "cell_type": "raw",
   "metadata": {},
   "source": [
    "In this code, an array named numbers contains five integers:var numbers = [1,2,3,4,5];. Let's break down the rest of the code in more detail:\n",
    "\n",
    "1. The numbers array calls the map()method.\n",
    "\n",
    "2. Inside the map() method, there is another function. This function is anonymous, meaning that the function does not have a name. When map() is called, it in turn calls this anonymous function.\n",
    "\n",
    "3. The anonymous function takes a parameter, named num, and returns the number multiplied by 2. Its sole task is to perform this single action.\n",
    "\n",
    "4. For every element in the array, the map() method calls the anonymous function, which doubles the value of the element.\n",
    "\n",
    "5. The map()method returns an array of doubled values, which is assigned the variable doubled.\n",
    "\n",
    "Here, the map()function becomes a method of the numbers array. It then takes in an anonymous function whose sole task is to double the value of num, its argument.\n",
    "\n",
    "Behind the scenes, an iterative process similar to a for loop takes place. The anonymous function takes in each integer of the numbers array and doubles it. Finally, the variable doubled is an array of integers whose values are twice their original values.\n",
    "\n"
   ]
  },
  {
   "cell_type": "raw",
   "metadata": {},
   "source": [
    "var numbers = [1,2,3,4,5];\n",
    "var doubled = numbers.map(function(num){\n",
    "    return num * 2;\n",
    "});\n",
    "console.log(doubled);\n",
    "\n",
    "In the anonymous function inside the map()method, the parameter name num is arbitrary. It could have been named anything else, such as integer or carPrice. For example, the following two examples would be equally valid:\n",
    "\n",
    "var doubled = numbers.map(function(integer) {\n",
    "return integer * 2;\n",
    "});\n",
    "\n",
    "As would this:\n",
    "\n",
    "var doubled = numbers.map(function(carPrice) {\n",
    "return carPrice * 2;\n",
    "});"
   ]
  },
  {
   "cell_type": "raw",
   "metadata": {},
   "source": [
    "SKILL DRILL\n",
    "\n",
    "Open VS Code and use map() to add 5 to each number in the following array:\n",
    "\n",
    "var numbers = [0,2,4,6,8];\n",
    "\n",
    "Verify your results in your browser console.\n",
    "\n",
    "var numbers = [0,2,4,6,8];\n",
    "var doubled = numbers.map(function(num){\n",
    "    return num * 2;\n",
    "console.log(doubled);\n",
    "(5) [0, 4, 8, 12, 16]\n",
    "\n",
    "there are fewer variables involved in a map than in a for loop, meaning fewer opportunities for the coder to make a mistake. How would this be useful for Roza's project? Imagine that part of her dataset is an array of decimal numbers. If she wanted to round down each number in the array to the nearest whole number, she could use map() to create and display an array of the whole numbers on the page."
   ]
  },
  {
   "cell_type": "raw",
   "metadata": {},
   "source": [
    "Here's another way to use map(). In this example,map() is used to extract a specific property from each object in an array.\n",
    "\n",
    "var cities = [\n",
    "    {\n",
    "      \"Rank\": 1,\n",
    "      \"City\": \"San Antonio \",\n",
    "      \"State\": \"Texas\",\n",
    "      \"Increase_from_2016\": \"24208\",\n",
    "      \"population\": \"1511946\"\n",
    "    },\n",
    "    {\n",
    "      \"Rank\": 2,\n",
    "      \"City\": \"Phoenix \",\n",
    "      \"State\": \"Arizona\",\n",
    "      \"Increase_from_2016\": \"24036\",\n",
    "      \"population\": \"1626078\"\n",
    "    },\n",
    "    {\n",
    "      \"Rank\": 3,\n",
    "      \"City\": \"Dallas\",\n",
    "      \"State\": \"Texas\",\n",
    "      \"Increase_from_2016\": \"18935\",\n",
    "      \"population\": \"1341075\"\n",
    "    }\n",
    "];\n",
    "\n",
    "var cityNames = cities.map(function(city){\n",
    "    return city.City;\n",
    "});\n",
    "console.log(cityNames);\n",
    "\n",
    "Note the following:\n",
    "\n",
    "1. cities is an array of objects. Each object has multiple properties, such as Rank, City, and State.\n",
    "\n",
    "2. The map() method is used to extract only the City property of each object, i.e., San Antonio, Phoenix, and Dallas. \n",
    "\n",
    "3. During each iteration, the anonymous function inside map() returns only that property of each object.\n",
    "cityNames is an array of only these city names."
   ]
  },
  {
   "cell_type": "raw",
   "metadata": {},
   "source": [
    "SKILL DRILL\n",
    "\n",
    "Open your text editor and browser. Modify the code in the previous example to extract the population of each city, instead of the city name.\n",
    "\n",
    "var cities = [\n",
    "    {\n",
    "      \"Rank\": 1,\n",
    "      \"City\": \"San Antonio \",\n",
    "      \"State\": \"Texas\",\n",
    "      \"Increase_from_2016\": \"24208\",\n",
    "      \"population\": \"1511946\"\n",
    "    },\n",
    "    {\n",
    "      \"Rank\": 2,\n",
    "      \"City\": \"Phoenix \",\n",
    "      \"State\": \"Arizona\",\n",
    "      \"Increase_from_2016\": \"24036\",\n",
    "      \"population\": \"1626078\"\n",
    "    },\n",
    "    {\n",
    "      \"Rank\": 3,\n",
    "      \"City\": \"Dallas\",\n",
    "      \"State\": \"Texas\",\n",
    "      \"Increase_from_2016\": \"18935\",\n",
    "      \"population\": \"1341075\"\n",
    "    }\n",
    "];\n",
    "\n",
    "var cityPop = cities.map(function(population){\n",
    "    return population.population;\n",
    "});\n",
    "console.log(cityPop);"
   ]
  },
  {
   "cell_type": "raw",
   "metadata": {},
   "source": [
    "the syntax for the map() method is far cleaner and involves fewer variables than a for loop.\n",
    "\n",
    "Additionally, whereas a for loop gives specific instructions on start and end points of the loop, map() does not. \n",
    "\n",
    "A for loop is imperative, meaning that its code is more detailed on the specific operations involved in it. The map() method, on the other hand, is more abstract, and does not specify things such as stop and end points.\n",
    "\n",
    "However, the map() method does something that a for loop does not always do: it calls another function. These are some of the features of the functional programming paradigm, which as we have seen, may lead to fewer errors and complications."
   ]
  },
  {
   "cell_type": "raw",
   "metadata": {},
   "source": [
    "The filter() Method\n",
    "\n",
    "Another functional programming technique is the filter() method. Like the map() method, it accepts another function as its parameter. Like map(), filter() performs an operation on every element in the original array. \n",
    "\n",
    "Unlike map(), however, filter()does not necessarily return an array whose length is the same as the original array."
   ]
  },
  {
   "cell_type": "raw",
   "metadata": {},
   "source": [
    "Run the following code in your console. What does larger return?\n",
    "\n",
    "var numbers = [1,2,3,4,5];\n",
    "\n",
    "var larger = numbers.filter(function(num){\n",
    "    return num > 1;\n",
    "});\n",
    "\n",
    "console.log(larger);\n",
    "\n",
    "It returns an array of integers that are larger than 1: [2,3,4,5].This example is remarkably similar to the last one, with one major difference.\n",
    "\n",
    "First, the similarities:\n",
    "\n",
    "The numbers array uses the filter() method.\n",
    "\n",
    "The filter() method, in turn, takes an anonymous function as its argument. The anonymous function's sole task is to take in a parameter, called num."
   ]
  },
  {
   "cell_type": "raw",
   "metadata": {},
   "source": [
    "The filter()method operates on each element of the numbers array. So how does it differ from map()?\n",
    "\n",
    "The map() method transforms every element of the original array, and so the size of the transformed array is the same as that of the original array.\n",
    "\n",
    "The filter() method, on the other hand, returns an array of values that meet certain criteria. Values in the original array that do not fulfill the condition are filtered out. In this case, specifically, the anonymous function called by filter() returns true if an argument is larger than 1, and false if it does not. \n",
    "\n",
    "The filter() method runs the anonymous function on every element of the original numbers array. Only numbers that are larger than 1 are returned: [2,3,4,5]. So whereas applying map() to the numbers array would have returned an array with five elements, applying this specific filter returned an array of only four elements."
   ]
  },
  {
   "cell_type": "raw",
   "metadata": {},
   "source": [
    "Skill Drill\n",
    "\n",
    "You are given the following array:\n",
    "\n",
    "var words = ['seal', 'dog', 'scorpion', 'orangutan', 'salamander'];\n",
    "\n",
    "Filter the results to include only animals whose species name starts with the letter \"s.\"\n",
    "\n",
    "var words = ['seal', 'dog', 'scorpion', 'orangutan', 'salamander'];\n",
    "var startsWithS = words.filter((word) => word.startsWith(\"s\"));\n",
    "console.log(startsWithS);"
   ]
  },
  {
   "cell_type": "raw",
   "metadata": {},
   "source": [
    "Arrow Functions\n",
    "\n",
    "An arrow function in JavaScript is syntactic sugar. That is, an arrow function does the same thing as a standard JavaScript function, but it streamlines the syntax used to accomplish the same task.\n",
    "\n",
    "The anonymous function inside map() and filter() can be simplified as an arrow function. Here's an example:\n",
    "\n",
    "var numbers = [1,2,3,4,5];\n",
    "\n",
    "\n",
    "var doubled = numbers.map(num => num * 2);\n",
    "console.log(doubled);\n",
    "\n",
    "The map() method performs the identical operation as before: it doubles each element in the numbers array. However, the anonymous function inside map() has been replaced by an arrow function."
   ]
  },
  {
   "cell_type": "raw",
   "metadata": {},
   "source": [
    "Contrast the two:\n",
    "\n",
    "var familyAge = [3,2,39,37,9];\n",
    "var sortedAge = familyAge.sort((a,b) => a - b);\n",
    "console.log(sortedAge);\n",
    "\n",
    "sortedAge returns the array [2,3,9,37,39]. \n",
    "\n",
    "Like map() and filter(), sort()takes in an anonymous function.\n",
    "\n",
    "During each iteration, the anonymous function, an arrow function in this case, compares one element of the array (a) with another element in the array (b). \n",
    "\n",
    "From a, it subtracts b. If the result is negative (i.e., b is larger than a) then it stays put. If the result of the subtraction is positive, the order of the two elements is reversed. \n",
    "\n",
    "Look at a modified version of this example."
   ]
  },
  {
   "cell_type": "raw",
   "metadata": {},
   "source": [
    "var familyAge = [3,2,39,37,9];\n",
    "var sortedAge = familyAge.sort((anElement,anotherElement) => anElement -\n",
    "anotherElement);\n",
    "\n",
    "Let's break down this code.\n",
    "\n",
    "1. The variables a and b are replaced by anElement and anotherElement.\n",
    "\n",
    "2. The first two elements that are compared might be 3 and 2. The variable anElement is assigned to 3, and anotherElement to 2.\n",
    "\n",
    "3. The arrow function performs the subtraction anElement - anotherElement, or 3 - 2.\n",
    "\n",
    "4. Since the result is positive (3 - 2 = 1), the order of the two numbers is reversed.\n",
    "\n",
    "5. The sort()method compares another pair of elements in the array, for example 37 and 39.\n",
    "\n",
    "6. Since 37 - 39 is a negative number, their ordering is kept.\n",
    "\n",
    "7. The process is repeated until the array is sorted.\n",
    "\n",
    "Appending reverse() to the above sorts the array in descending order. Try it in your browser console.\n",
    "\n",
    "sortedAge.reverse()"
   ]
  },
  {
   "cell_type": "raw",
   "metadata": {},
   "source": [
    "How Roza might apply the sort() function?\n",
    "\n",
    "Each of her volunteers carries a variety of bacterial species in his or her belly button. There is also information on the number of bacteria found for each species. \n",
    "\n",
    "The dashboard Roza has in mind will display the most common bacterial species, by count, in the navel. \n",
    "\n",
    "If Improbable Beef is looking for people who carry a large number of a certain bacterial species, Roza's volunteers should be able to quickly use the dashboard to figure out whether they are eligible to sell their bacteria to the company. \n",
    "\n",
    "To accomplish this goal, she should sort the most common species of bacteria with sort(), and then display the results on the webpage."
   ]
  },
  {
   "cell_type": "raw",
   "metadata": {},
   "source": [
    "The slice() Method\n",
    "\n",
    "Roza also needs to be able to select a subset of the data. In her project, for example, she might perform a transformation on an array, filter it, sort it, and then display only the top five results.\n",
    "\n",
    "var integers = [0,1,2,3,4,5];\n",
    "var slice1 = integers.slice(0,2);\n",
    "\n",
    "In this example, the slice()method returns the first two elements of the integer array: [0,1]. \n",
    "\n",
    "The first argument is the position of where to begin the selection. Here, it is at index position 0. \n",
    "\n",
    "The next argument, 2, denotes the position of the array where the slicing ceases. \n",
    "\n",
    "In other words, the slice()method begins selecting the array at index position 0, and stops right before reaching index position 2. So here, it returns elements at index positions 0 and 1, but not 2."
   ]
  },
  {
   "cell_type": "raw",
   "metadata": {},
   "source": [
    "SKill Drill\n",
    "\n",
    "var words = ['seal', 'dog', 'scorpion', 'orangutan', 'salamander'];\n",
    "\n",
    "Use slice() to select the first three elements of the words array.\n",
    "\n",
    "var slice1 = words.slice(0,3);"
   ]
  },
  {
   "cell_type": "raw",
   "metadata": {},
   "source": [
    "To slice to the end of an array, you can omit the second argument:\n",
    "\n",
    "var words = ['seal', 'dog', 'scorpion', 'orangutan', 'salamander'];\n",
    "words.slice(3, );\n",
    "\n",
    "The elements sliced here are['orangutan', 'salamander']. Great job!\n"
   ]
  },
  {
   "cell_type": "raw",
   "metadata": {},
   "source": [
    "12.2.2 Practicing JavaScript Methods\n",
    "\n",
    "practice creating a simpler graph in Plotly that requires some behind-the-scenes JavaScript action. She will create a bar chart of five cities whose populations have seen the greatest increase in the period 2016–2017.\n",
    "\n",
    "Download data.js\n",
    "create index2.html file and input this code:\n",
    "\n",
    "<!DOCTYPE html>\n",
    "<html lang=\"en\">\n",
    "<head>\n",
    "  <meta charset=\"UTF-8\">\n",
    "  <meta name=\"viewport\" content=\"width=device-width, initial-scale=1.0\">\n",
    "  <meta http-equiv=\"X-UA-Compatible\" content=\"ie=edge\">\n",
    "  <title>Fast-Growing Cities 2016-2017</title>\n",
    "  <script src=\"https://cdn.plot.ly/plotly-latest.min.js\"></script>\n",
    "</head>\n",
    "<body>\n",
    "  <div id=\"bar-plot\"></div>\n",
    "  <script src=\"data.js\"></script>\n",
    "  <script src=\"plot.js\"></script>\n",
    "</body>\n",
    "</html>\n",
    "\n",
    "The <title> tag is appropriate to the chart Roza is creating: \"Fast-Growing Cities 2016–2017.\"\n",
    "The first <script> tag links to the Plotly CDN.\n",
    "The <div> tag, where the Plotly chart will be displayed, is titled \"bar-plot.\"\n",
    "The second <script> tag links to the data file, data.js.\n",
    "The third <script> tag links to the script file for the chart, i.e., the JavaScript code.\n"
   ]
  },
  {
   "cell_type": "raw",
   "metadata": {},
   "source": [
    "Now take a moment to examine the dataset, contained in data.js, of which you have seen a sample.\n",
    "\n",
    "var cityGrowths = [\n",
    "  {\n",
    "    \"Rank\": 1,\n",
    "    \"City\": \"San Antonio \",\n",
    "    \"State\": \"Texas\",\n",
    "    \"Increase_from_2016\": \"39208\",\n",
    "    \"population\": \"1511946\"\n",
    "  },\n",
    "\n",
    "The variable cityGrowths is assigned to an array of objects, each of which contains a city and some associated facts, such as its population. \n",
    "\n",
    "This array, although contained in a separate file, can be accessed from plot.js so create a blank file named plot.js now. \n",
    "\n",
    "To verify that the data is correctly read in, Roza should call console.log(cityGrowths); in plot.js.\n",
    "\n"
   ]
  },
  {
   "cell_type": "raw",
   "metadata": {},
   "source": [
    "Now take a moment to plan our next steps. We will need to:\n",
    "\n",
    "1. Sort the cities in descending order of population growth.\n",
    "\n",
    "2. Select only the top five cities in terms of growth.\n",
    "\n",
    "3. Create separate arrays for the city names and their population growths.\n",
    "\n",
    "4. Use Plotly to create a bar chart with these arrays.\n"
   ]
  },
  {
   "cell_type": "raw",
   "metadata": {},
   "source": [
    "Sort and Select the Cities\n",
    "\n",
    "The first step is to sort the cities by population growth. For this she will use the sort() method, which in turn will call an anonymous function to sort objects by the Increase_from_2016 property.\n",
    "\n",
    "var sortedCities = cityGrowths.sort((a,b) =>\n",
    "a.Increase_from_2016 - b.Increase_from_2016).reverse(); \n",
    "\n",
    "The sort() method takes in a and b as arguments and subtracts the Increase_from_2016 property to sort the cities. Remember that a and b are arbitrarily named. Here, a is one city in the dataset, and b is the next city that is listed in the dataset."
   ]
  },
  {
   "cell_type": "raw",
   "metadata": {},
   "source": [
    "The next step is to select only the top five cities by population growth. We'll use slice() to perform this task.\n",
    "\n",
    "var topFiveCities = sortedCities.slice(0,5);\n",
    "\n",
    "The slicing operation begins and includes the element at index position 0, and stops before the element at index position 5."
   ]
  },
  {
   "cell_type": "raw",
   "metadata": {},
   "source": [
    "Create Arrays of City Names and Growth Figures\n",
    "\n",
    "Now we need to create two arrays: an array of city names, and an array of corresponding population growths. We'll use the map() method to extract these properties. These arrays will be the x and y axis data of the Plotly chart.\n",
    "\n",
    "Suppose that Roza wants to use map() to create a separate array of the top five city names, as well as the top five growth figures. How would we help her do this?\n",
    "\n",
    "Add the following JavaScript code from plot.js.\n",
    "\n",
    "var topFiveCityNames = topFiveCities.map(city => city.City);\n",
    "var topFiveCityGrowths = topFiveCities.map(city => parseInt(city.Increase_from_2016));"
   ]
  },
  {
   "cell_type": "raw",
   "metadata": {},
   "source": [
    "parseInt()method used above because all the values in the dataset are strings. \n",
    "\n",
    "For example, in this object, the numerical values are formatted as strings, as indicated by the quotation marks, rather than integers.\n",
    "\n",
    "{\n",
    "    \"Rank\": 2,\n",
    "    \"City\": \"Phoenix\",\n",
    "    \"State\": \"Arizona\",\n",
    "    \"Increase_from_2016\": \"34036\",\n",
    "    \"population\": \"1626078\"\n",
    "  },\n",
    "  \n",
    "That is whyparseInt(city.Increase_from_2016)converts strings into integers. \n",
    "\n",
    "While JavaScript is flexible enough to interpret numbers enclosed in quotation marks as numbers, it's good practice to explicitly transform, or cast, strings into numbers."
   ]
  },
  {
   "cell_type": "raw",
   "metadata": {},
   "source": [
    "Create a Bar Chart with the Arrays\n",
    "The final task is to render these arrays in Plotly. Add the following code to plot.js.\n",
    "\n",
    "var trace = {\n",
    "  x: topFiveCityNames,\n",
    "  y: topFiveCityGrowths,\n",
    "  type: \"bar\"\n",
    "};\n",
    "var data = [trace];\n",
    "var layout = {\n",
    "  title: \"Most Rapidly Growing Cities\",\n",
    "  xaxis: { title: \"City\" },\n",
    "  yaxis: { title: \"Population Growth, 2016-2017\"}\n",
    "};\n",
    "Plotly.newPlot(\"bar-plot\", data, layout);\n",
    "\n",
    "Here's what's happening in this code:\n",
    "\n",
    "1. The trace specifies the type of graph as a bar chart as well as defines the x- and y-axis data.\n",
    "\n",
    "2. The variable data encloses trace in an array to meet Plotly's format requirement.\n",
    "\n",
    "3. The variable layout is assigned to an object that specifies the chart's title and axis labels.\n",
    "\n",
    "4. Finally, the graph is rendered with Plotly.newPlot().\n"
   ]
  },
  {
   "cell_type": "raw",
   "metadata": {},
   "source": [
    "SKill DRILL\n",
    "\n",
    "Use the same dataset to create a bar chart of the seven largest cities by population."
   ]
  }
 ],
 "metadata": {
  "kernelspec": {
   "display_name": "PythonData",
   "language": "python",
   "name": "pythondata"
  },
  "language_info": {
   "codemirror_mode": {
    "name": "ipython",
    "version": 3
   },
   "file_extension": ".py",
   "mimetype": "text/x-python",
   "name": "python",
   "nbconvert_exporter": "python",
   "pygments_lexer": "ipython3",
   "version": "3.7.7"
  }
 },
 "nbformat": 4,
 "nbformat_minor": 4
}
